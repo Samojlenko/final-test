{
 "cells": [
  {
   "cell_type": "code",
   "execution_count": 6,
   "id": "4823afb1-b5fe-4e07-bcd2-6b23b3f43181",
   "metadata": {},
   "outputs": [
    {
     "name": "stdout",
     "output_type": "stream",
     "text": [
      "Requirement already satisfied: pandas in c:\\users\\10400f\\appdata\\local\\packages\\pythonsoftwarefoundation.python.3.11_qbz5n2kfra8p0\\localcache\\local-packages\\python311\\site-packages (2.2.2)\n",
      "Requirement already satisfied: numpy>=1.23.2 in c:\\users\\10400f\\appdata\\local\\packages\\pythonsoftwarefoundation.python.3.11_qbz5n2kfra8p0\\localcache\\local-packages\\python311\\site-packages (from pandas) (1.26.4)\n",
      "Requirement already satisfied: python-dateutil>=2.8.2 in c:\\users\\10400f\\appdata\\local\\packages\\pythonsoftwarefoundation.python.3.11_qbz5n2kfra8p0\\localcache\\local-packages\\python311\\site-packages (from pandas) (2.9.0.post0)\n",
      "Requirement already satisfied: pytz>=2020.1 in c:\\users\\10400f\\appdata\\local\\packages\\pythonsoftwarefoundation.python.3.11_qbz5n2kfra8p0\\localcache\\local-packages\\python311\\site-packages (from pandas) (2024.1)\n",
      "Requirement already satisfied: tzdata>=2022.7 in c:\\users\\10400f\\appdata\\local\\packages\\pythonsoftwarefoundation.python.3.11_qbz5n2kfra8p0\\localcache\\local-packages\\python311\\site-packages (from pandas) (2024.1)\n",
      "Requirement already satisfied: six>=1.5 in c:\\users\\10400f\\appdata\\local\\packages\\pythonsoftwarefoundation.python.3.11_qbz5n2kfra8p0\\localcache\\local-packages\\python311\\site-packages (from python-dateutil>=2.8.2->pandas) (1.16.0)\n",
      "Note: you may need to restart the kernel to use updated packages.\n"
     ]
    }
   ],
   "source": [
    "pip install pandas"
   ]
  },
  {
   "cell_type": "code",
   "execution_count": 7,
   "id": "f9505b6b",
   "metadata": {},
   "outputs": [],
   "source": [
    "import pandas as pd"
   ]
  },
  {
   "cell_type": "code",
   "execution_count": 8,
   "id": "5093c74f",
   "metadata": {},
   "outputs": [],
   "source": [
    "file_path = '2315676.txt'"
   ]
  },
  {
   "cell_type": "code",
   "execution_count": 9,
   "id": "c9f51d83",
   "metadata": {},
   "outputs": [],
   "source": [
    "df = pd.read_csv(file_path, sep='\\s+', na_values='—', parse_dates=[\"DATE\"], date_format='%Y%m%d', index_col=\"DATE\", skiprows=[1])"
   ]
  },
  {
   "cell_type": "code",
   "execution_count": 10,
   "id": "d52ffa57",
   "metadata": {},
   "outputs": [
    {
     "name": "stdout",
     "output_type": "stream",
     "text": [
      "                      STATION      STATION_NAME  TAVG  TMAX  TMIN\n",
      "DATE                                                             \n",
      "1908-01-01  GHCND:FI000007501  SODANKYLA-AWS-FI -9999     2   -37\n",
      "1908-01-02  GHCND:FI000007501  SODANKYLA-AWS-FI -9999     6   -26\n",
      "1908-01-03  GHCND:FI000007501  SODANKYLA-AWS-FI -9999     7   -27\n",
      "1908-01-04  GHCND:FI000007501  SODANKYLA-AWS-FI -9999    -3   -27\n",
      "1908-01-05  GHCND:FI000007501  SODANKYLA-AWS-FI -9999     4   -36\n"
     ]
    }
   ],
   "source": [
    "print(df.head())"
   ]
  },
  {
   "cell_type": "code",
   "execution_count": 11,
   "id": "1c66f9ca",
   "metadata": {},
   "outputs": [],
   "source": [
    "df['TAVG_C'] = (df['TAVG'] - 32) / 1.8\n",
    "df['TMAX_C'] = (df['TMAX'] - 32) / 1.8\n",
    "df['TMIN_C'] = (df['TMIN'] - 32) / 1.8"
   ]
  },
  {
   "cell_type": "code",
   "execution_count": 12,
   "id": "6695d429",
   "metadata": {},
   "outputs": [
    {
     "name": "stdout",
     "output_type": "stream",
     "text": [
      "                      STATION      STATION_NAME  TAVG  TMAX  TMIN  \\\n",
      "DATE                                                                \n",
      "1908-01-01  GHCND:FI000007501  SODANKYLA-AWS-FI -9999     2   -37   \n",
      "1908-01-02  GHCND:FI000007501  SODANKYLA-AWS-FI -9999     6   -26   \n",
      "1908-01-03  GHCND:FI000007501  SODANKYLA-AWS-FI -9999     7   -27   \n",
      "1908-01-04  GHCND:FI000007501  SODANKYLA-AWS-FI -9999    -3   -27   \n",
      "1908-01-05  GHCND:FI000007501  SODANKYLA-AWS-FI -9999     4   -36   \n",
      "\n",
      "                 TAVG_C     TMAX_C     TMIN_C  \n",
      "DATE                                           \n",
      "1908-01-01 -5572.777778 -16.666667 -38.333333  \n",
      "1908-01-02 -5572.777778 -14.444444 -32.222222  \n",
      "1908-01-03 -5572.777778 -13.888889 -32.777778  \n",
      "1908-01-04 -5572.777778 -19.444444 -32.777778  \n",
      "1908-01-05 -5572.777778 -15.555556 -37.777778  \n"
     ]
    }
   ],
   "source": [
    "print(df.head())"
   ]
  },
  {
   "cell_type": "code",
   "execution_count": 13,
   "id": "d9895a15",
   "metadata": {},
   "outputs": [],
   "source": [
    "winter_months = [12, 1, 2]\n",
    "spring_months = [3, 4, 5]\n",
    "summer_months = [6, 7, 8]\n",
    "autumn_months = [9, 10, 11]"
   ]
  },
  {
   "cell_type": "code",
   "execution_count": 14,
   "id": "e00af537",
   "metadata": {},
   "outputs": [],
   "source": [
    "winter_data = df[df.index.month.isin(winter_months) & (df.index.year == 2005)]\n",
    "spring_data = df[df.index.month.isin(spring_months) & (df.index.year == 2005)]\n",
    "summer_data = df[df.index.month.isin(summer_months) & (df.index.year == 2005)]\n",
    "autumn_data = df[df.index.month.isin(autumn_months) & (df.index.year == 2005)]"
   ]
  },
  {
   "cell_type": "code",
   "execution_count": 15,
   "id": "2934969b",
   "metadata": {},
   "outputs": [
    {
     "name": "stdout",
     "output_type": "stream",
     "text": [
      "Winter Data:\n",
      "                      STATION      STATION_NAME  TAVG  TMAX  TMIN    TAVG_C  \\\n",
      "DATE                                                                          \n",
      "2005-01-01  GHCND:FI000007501  SODANKYLA-AWS-FI    19    30     8 -7.222222   \n",
      "2005-01-02  GHCND:FI000007501  SODANKYLA-AWS-FI    29    31    25 -1.666667   \n",
      "2005-01-03  GHCND:FI000007501  SODANKYLA-AWS-FI    26    31 -9999 -3.333333   \n",
      "2005-01-04  GHCND:FI000007501  SODANKYLA-AWS-FI    24    27    18 -4.444444   \n",
      "2005-01-05  GHCND:FI000007501  SODANKYLA-AWS-FI    23    27    22 -5.000000   \n",
      "\n",
      "              TMAX_C       TMIN_C  \n",
      "DATE                               \n",
      "2005-01-01 -1.111111   -13.333333  \n",
      "2005-01-02 -0.555556    -3.888889  \n",
      "2005-01-03 -0.555556 -5572.777778  \n",
      "2005-01-04 -2.777778    -7.777778  \n",
      "2005-01-05 -2.777778    -5.555556  \n",
      "Spring Data:\n",
      "                      STATION      STATION_NAME  TAVG  TMAX  TMIN     TAVG_C  \\\n",
      "DATE                                                                           \n",
      "2005-03-01  GHCND:FI000007501  SODANKYLA-AWS-FI    -6    11   -26 -21.111111   \n",
      "2005-03-02  GHCND:FI000007501  SODANKYLA-AWS-FI    -1    15   -17 -18.333333   \n",
      "2005-03-03  GHCND:FI000007501  SODANKYLA-AWS-FI     8    22   -14 -13.333333   \n",
      "2005-03-04  GHCND:FI000007501  SODANKYLA-AWS-FI    14    19     2 -10.000000   \n",
      "2005-03-05  GHCND:FI000007501  SODANKYLA-AWS-FI    20 -9999    17  -6.666667   \n",
      "\n",
      "                 TMAX_C     TMIN_C  \n",
      "DATE                                \n",
      "2005-03-01   -11.666667 -32.222222  \n",
      "2005-03-02    -9.444444 -27.222222  \n",
      "2005-03-03    -5.555556 -25.555556  \n",
      "2005-03-04    -7.222222 -16.666667  \n",
      "2005-03-05 -5572.777778  -8.333333  \n",
      "Summer Data:\n",
      "                      STATION      STATION_NAME  TAVG  TMAX  TMIN     TAVG_C  \\\n",
      "DATE                                                                           \n",
      "2005-06-01  GHCND:FI000007501  SODANKYLA-AWS-FI    42    49 -9999   5.555556   \n",
      "2005-06-02  GHCND:FI000007501  SODANKYLA-AWS-FI    45    53 -9999   7.222222   \n",
      "2005-06-03  GHCND:FI000007501  SODANKYLA-AWS-FI    52    59    41  11.111111   \n",
      "2005-06-04  GHCND:FI000007501  SODANKYLA-AWS-FI    54    61    45  12.222222   \n",
      "2005-06-05  GHCND:FI000007501  SODANKYLA-AWS-FI    55    64 -9999  12.777778   \n",
      "\n",
      "               TMAX_C       TMIN_C  \n",
      "DATE                                \n",
      "2005-06-01   9.444444 -5572.777778  \n",
      "2005-06-02  11.666667 -5572.777778  \n",
      "2005-06-03  15.000000     5.000000  \n",
      "2005-06-04  16.111111     7.222222  \n",
      "2005-06-05  17.777778 -5572.777778  \n",
      "Autumn Data:\n",
      "                      STATION      STATION_NAME  TAVG  TMAX  TMIN     TAVG_C  \\\n",
      "DATE                                                                           \n",
      "2005-09-01  GHCND:FI000007501  SODANKYLA-AWS-FI    56    63    36  13.333333   \n",
      "2005-09-02  GHCND:FI000007501  SODANKYLA-AWS-FI    59 -9999    51  15.000000   \n",
      "2005-09-03  GHCND:FI000007501  SODANKYLA-AWS-FI    50    59 -9999  10.000000   \n",
      "2005-09-04  GHCND:FI000007501  SODANKYLA-AWS-FI    47    56    32   8.333333   \n",
      "2005-09-05  GHCND:FI000007501  SODANKYLA-AWS-FI    48    55 -9999   8.888889   \n",
      "\n",
      "                 TMAX_C       TMIN_C  \n",
      "DATE                                  \n",
      "2005-09-01    17.222222     2.222222  \n",
      "2005-09-02 -5572.777778    10.555556  \n",
      "2005-09-03    15.000000 -5572.777778  \n",
      "2005-09-04    13.333333     0.000000  \n",
      "2005-09-05    12.777778 -5572.777778  \n"
     ]
    }
   ],
   "source": [
    "print(\"Winter Data:\")\n",
    "print(winter_data.head())\n",
    "print(\"Spring Data:\")\n",
    "print(spring_data.head())\n",
    "print(\"Summer Data:\")\n",
    "print(summer_data.head())\n",
    "print(\"Autumn Data:\")\n",
    "print(autumn_data.head())"
   ]
  },
  {
   "cell_type": "code",
   "execution_count": 16,
   "id": "e41036b0",
   "metadata": {},
   "outputs": [
    {
     "name": "stdout",
     "output_type": "stream",
     "text": [
      "Requirement already satisfied: matplotlib in c:\\users\\10400f\\appdata\\local\\packages\\pythonsoftwarefoundation.python.3.11_qbz5n2kfra8p0\\localcache\\local-packages\\python311\\site-packages (3.8.4)Note: you may need to restart the kernel to use updated packages.\n",
      "\n",
      "Requirement already satisfied: contourpy>=1.0.1 in c:\\users\\10400f\\appdata\\local\\packages\\pythonsoftwarefoundation.python.3.11_qbz5n2kfra8p0\\localcache\\local-packages\\python311\\site-packages (from matplotlib) (1.2.1)\n",
      "Requirement already satisfied: cycler>=0.10 in c:\\users\\10400f\\appdata\\local\\packages\\pythonsoftwarefoundation.python.3.11_qbz5n2kfra8p0\\localcache\\local-packages\\python311\\site-packages (from matplotlib) (0.12.1)\n",
      "Requirement already satisfied: fonttools>=4.22.0 in c:\\users\\10400f\\appdata\\local\\packages\\pythonsoftwarefoundation.python.3.11_qbz5n2kfra8p0\\localcache\\local-packages\\python311\\site-packages (from matplotlib) (4.51.0)\n",
      "Requirement already satisfied: kiwisolver>=1.3.1 in c:\\users\\10400f\\appdata\\local\\packages\\pythonsoftwarefoundation.python.3.11_qbz5n2kfra8p0\\localcache\\local-packages\\python311\\site-packages (from matplotlib) (1.4.5)\n",
      "Requirement already satisfied: numpy>=1.21 in c:\\users\\10400f\\appdata\\local\\packages\\pythonsoftwarefoundation.python.3.11_qbz5n2kfra8p0\\localcache\\local-packages\\python311\\site-packages (from matplotlib) (1.26.4)\n",
      "Requirement already satisfied: packaging>=20.0 in c:\\users\\10400f\\appdata\\local\\packages\\pythonsoftwarefoundation.python.3.11_qbz5n2kfra8p0\\localcache\\local-packages\\python311\\site-packages (from matplotlib) (24.0)\n",
      "Requirement already satisfied: pillow>=8 in c:\\users\\10400f\\appdata\\local\\packages\\pythonsoftwarefoundation.python.3.11_qbz5n2kfra8p0\\localcache\\local-packages\\python311\\site-packages (from matplotlib) (10.3.0)\n",
      "Requirement already satisfied: pyparsing>=2.3.1 in c:\\users\\10400f\\appdata\\local\\packages\\pythonsoftwarefoundation.python.3.11_qbz5n2kfra8p0\\localcache\\local-packages\\python311\\site-packages (from matplotlib) (3.1.2)\n",
      "Requirement already satisfied: python-dateutil>=2.7 in c:\\users\\10400f\\appdata\\local\\packages\\pythonsoftwarefoundation.python.3.11_qbz5n2kfra8p0\\localcache\\local-packages\\python311\\site-packages (from matplotlib) (2.9.0.post0)\n",
      "Requirement already satisfied: six>=1.5 in c:\\users\\10400f\\appdata\\local\\packages\\pythonsoftwarefoundation.python.3.11_qbz5n2kfra8p0\\localcache\\local-packages\\python311\\site-packages (from python-dateutil>=2.7->matplotlib) (1.16.0)\n"
     ]
    }
   ],
   "source": [
    "pip install matplotlib"
   ]
  },
  {
   "cell_type": "code",
   "execution_count": 17,
   "id": "85fab7e3",
   "metadata": {},
   "outputs": [],
   "source": [
    "import matplotlib.pyplot as plt"
   ]
  },
  {
   "cell_type": "code",
   "execution_count": 3,
   "id": "bfe1d9b3",
   "metadata": {},
   "outputs": [
    {
     "data": {
      "text/plain": [
       "<Figure size 1000x600 with 0 Axes>"
      ]
     },
     "execution_count": 3,
     "metadata": {},
     "output_type": "execute_result"
    },
    {
     "data": {
      "text/plain": [
       "<Figure size 1000x600 with 0 Axes>"
      ]
     },
     "metadata": {},
     "output_type": "display_data"
    }
   ],
   "source": [
    "plt.figure(figsize=(10, 6))"
   ]
  },
  {
   "cell_type": "code",
   "execution_count": 19,
   "id": "7432d82a",
   "metadata": {},
   "outputs": [
    {
     "data": {
      "text/plain": [
       "[<matplotlib.lines.Line2D at 0x184bc075a90>]"
      ]
     },
     "execution_count": 19,
     "metadata": {},
     "output_type": "execute_result"
    },
    {
     "data": {
      "image/png": "[encoded data removed]",
      "text/plain": [
       "<Figure size 640x480 with 1 Axes>"
      ]
     },
     "metadata": {},
     "output_type": "display_data"
    }
   ],
   "source": [
    "plt.plot(winter_data.index, winter_data['TAVG_C'], label='Winter', color='blue')\n",
    "plt.plot(spring_data.index, spring_data['TAVG_C'], label='Spring', color='green')\n",
    "plt.plot(summer_data.index, summer_data['TAVG_C'], label='Summer', color='orange')\n",
    "plt.plot(autumn_data.index, autumn_data['TAVG_C'], label='Autumn', color='red')"
   ]
  },
  {
   "cell_type": "code",
   "execution_count": null,
   "id": "6d2f0529",
   "metadata": {},
   "outputs": [],
   "source": []
  }
 ],
 "metadata": {
  "kernelspec": {
   "display_name": "Python 3 (ipykernel)",
   "language": "python",
   "name": "python3"
  },
  "language_info": {
   "codemirror_mode": {
    "name": "ipython",
    "version": 3
   },
   "file_extension": ".py",
   "mimetype": "text/x-python",
   "name": "python",
   "nbconvert_exporter": "python",
   "pygments_lexer": "ipython3",
   "version": "3.11.9"
  }
 },
 "nbformat": 4,
 "nbformat_minor": 5
}
